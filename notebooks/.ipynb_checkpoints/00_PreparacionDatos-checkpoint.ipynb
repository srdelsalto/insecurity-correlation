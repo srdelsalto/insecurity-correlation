{
 "cells": [
  {
   "cell_type": "code",
   "execution_count": 1,
   "id": "40518691-f62e-45a8-8576-c03df7544668",
   "metadata": {},
   "outputs": [
    {
     "ename": "ModuleNotFoundError",
     "evalue": "No module named 'scripts.limpieza'",
     "output_type": "error",
     "traceback": [
      "\u001b[1;31m---------------------------------------------------------------------------\u001b[0m",
      "\u001b[1;31mModuleNotFoundError\u001b[0m                       Traceback (most recent call last)",
      "Cell \u001b[1;32mIn[1], line 3\u001b[0m\n\u001b[0;32m      1\u001b[0m \u001b[38;5;66;03m# notebooks/00_PreparacionDatos.ipynb\u001b[39;00m\n\u001b[1;32m----> 3\u001b[0m \u001b[38;5;28;01mfrom\u001b[39;00m\u001b[38;5;250m \u001b[39m\u001b[38;5;21;01mscripts\u001b[39;00m\u001b[38;5;21;01m.\u001b[39;00m\u001b[38;5;21;01mlimpieza\u001b[39;00m\u001b[38;5;250m \u001b[39m\u001b[38;5;28;01mimport\u001b[39;00m \u001b[38;5;241m*\u001b[39m\n\u001b[0;32m      5\u001b[0m \u001b[38;5;66;03m# ---------- 1. Estructura poblacional ----------\u001b[39;00m\n\u001b[0;32m      6\u001b[0m df_pob \u001b[38;5;241m=\u001b[39m cargar_dataset(\u001b[38;5;124m'\u001b[39m\u001b[38;5;124m01_2022_CPV_Estructura_poblacional.xlsx\u001b[39m\u001b[38;5;124m'\u001b[39m, hoja\u001b[38;5;241m=\u001b[39m\u001b[38;5;124m'\u001b[39m\u001b[38;5;124m1.1\u001b[39m\u001b[38;5;124m'\u001b[39m)\n",
      "\u001b[1;31mModuleNotFoundError\u001b[0m: No module named 'scripts.limpieza'"
     ]
    }
   ],
   "source": [
    "from scripts.limpieza import *\n",
    "\n",
    "# ---------- 1. Estructura poblacional ----------\n",
    "df_pob = cargar_dataset('01_2022_CPV_Estructura_poblacional.xlsx', hoja='1.1')\n",
    "df_pob = limpiar_nombres_columnas(df_pob)\n",
    "df_pob = estandarizar_provincias(df_pob, col='provincia')\n",
    "df_pob = eliminar_totales(df_pob, col='provincia')\n",
    "guardar_dataset(df_pob, 'estructura_poblacional.csv')\n",
    "\n",
    "# ---------- 2. Educación ----------\n",
    "df_edu = cargar_dataset('2022_CPV_Educacion.xlsx', hoja='4.1')\n",
    "df_edu = limpiar_nombres_columnas(df_edu)\n",
    "df_edu = estandarizar_provincias(df_edu, col='provincia')\n",
    "df_edu = eliminar_totales(df_edu)\n",
    "guardar_dataset(df_edu, 'educacion_limpio.csv')\n",
    "\n",
    "# ---------- 3. Trabajo ----------\n",
    "df_trab = cargar_dataset('2022_CPV_Trabajo.xlsx', hoja='3.1')\n",
    "df_trab = limpiar_nombres_columnas(df_trab)\n",
    "df_trab = estandarizar_provincias(df_trab, col='provincia')\n",
    "df_trab = eliminar_totales(df_trab)\n",
    "guardar_dataset(df_trab, 'trabajo_limpio.csv')\n",
    "\n",
    "# ---------- 4. Pobreza ----------\n",
    "df_nbi = cargar_dataset('2022_CPV_Pobreza-por-NBI.xlsx', hoja='2.2')\n",
    "df_nbi = limpiar_nombres_columnas(df_nbi)\n",
    "df_nbi = estandarizar_provincias(df_nbi, col='provincia')\n",
    "df_nbi = eliminar_totales(df_nbi)\n",
    "guardar_dataset(df_nbi, 'nbi_limpio.csv')\n",
    "\n",
    "# ---------- 5. Seguridad: Homicidios Cantón ----------\n",
    "df_homicidios = cargar_dataset('042025_Tabulados Seguridad.xlsx', hoja='2.homicidios_canton')\n",
    "df_homicidios = limpiar_nombres_columnas(df_homicidios)\n",
    "df_homicidios = estandarizar_provincias(df_homicidios, col='provincia')\n",
    "guardar_dataset(df_homicidios, 'homicidios_canton.csv')\n",
    "\n",
    "# ---------- 6. Femicidios ----------\n",
    "df_femicidios = cargar_dataset('042025_Tabulados Seguridad.xlsx', hoja='4.femicidios_canton')\n",
    "df_femicidios = limpiar_nombres_columnas(df_femicidios)\n",
    "df_femicidios = estandarizar_provincias(df_femicidios, col='provincia')\n",
    "guardar_dataset(df_femicidios, 'femicidios_canton.csv')\n",
    "\n",
    "# ---------- 7. Denuncias ----------\n",
    "df_denuncias = cargar_dataset('042025_Tabulados Seguridad.xlsx', hoja='5.denuncias_prov')\n",
    "df_denuncias = limpiar_nombres_columnas(df_denuncias)\n",
    "df_denuncias = estandarizar_provincias(df_denuncias, col='provincia')\n",
    "guardar_dataset(df_denuncias, 'denuncias_prov.csv')\n",
    "\n",
    "# ---------- 8. Delitos graves (consolidado) ----------\n",
    "df_delitos = cargar_dataset('DELITOS-GRAVES-junio-final.xlsx', hoja='Datos')\n",
    "df_delitos = limpiar_nombres_columnas(df_delitos)\n",
    "guardar_dataset(df_delitos, 'delitos_graves.csv')\n",
    "\n",
    "# ---------- 9. Homicidios intencionales ----------\n",
    "df_homi_anual = cargar_dataset('mdi_homicidios_intencionales_pm_2014_2024.xlsx', hoja='1')\n",
    "df_homi_anual = limpiar_nombres_columnas(df_homi_anual)\n",
    "guardar_dataset(df_homi_anual, 'homicidios_provincia.csv')\n"
   ]
  },
  {
   "cell_type": "code",
   "execution_count": null,
   "id": "b2b3dc73-b119-40b5-813c-5c5f394cdead",
   "metadata": {},
   "outputs": [],
   "source": []
  }
 ],
 "metadata": {
  "kernelspec": {
   "display_name": "Python [conda env:base] *",
   "language": "python",
   "name": "conda-base-py"
  },
  "language_info": {
   "codemirror_mode": {
    "name": "ipython",
    "version": 3
   },
   "file_extension": ".py",
   "mimetype": "text/x-python",
   "name": "python",
   "nbconvert_exporter": "python",
   "pygments_lexer": "ipython3",
   "version": "3.13.5"
  }
 },
 "nbformat": 4,
 "nbformat_minor": 5
}
