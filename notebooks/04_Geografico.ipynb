{
 "cells": [
  {
   "cell_type": "code",
   "execution_count": 4,
   "id": "ac8491c8",
   "metadata": {},
   "outputs": [
    {
     "ename": "ModuleNotFoundError",
     "evalue": "No module named 'libpysal'",
     "output_type": "error",
     "traceback": [
      "\u001b[1;31m---------------------------------------------------------------------------\u001b[0m",
      "\u001b[1;31mModuleNotFoundError\u001b[0m                       Traceback (most recent call last)",
      "Cell \u001b[1;32mIn[4], line 4\u001b[0m\n\u001b[0;32m      2\u001b[0m \u001b[38;5;28;01mimport\u001b[39;00m\u001b[38;5;250m \u001b[39m\u001b[38;5;21;01mgeopandas\u001b[39;00m\u001b[38;5;250m \u001b[39m\u001b[38;5;28;01mas\u001b[39;00m\u001b[38;5;250m \u001b[39m\u001b[38;5;21;01mgpd\u001b[39;00m\n\u001b[0;32m      3\u001b[0m \u001b[38;5;28;01mimport\u001b[39;00m\u001b[38;5;250m \u001b[39m\u001b[38;5;21;01mplotly\u001b[39;00m\u001b[38;5;21;01m.\u001b[39;00m\u001b[38;5;21;01mexpress\u001b[39;00m\u001b[38;5;250m \u001b[39m\u001b[38;5;28;01mas\u001b[39;00m\u001b[38;5;250m \u001b[39m\u001b[38;5;21;01mpx\u001b[39;00m\n\u001b[1;32m----> 4\u001b[0m \u001b[38;5;28;01mfrom\u001b[39;00m\u001b[38;5;250m \u001b[39m\u001b[38;5;21;01mlibpysal\u001b[39;00m\u001b[38;5;21;01m.\u001b[39;00m\u001b[38;5;21;01mweights\u001b[39;00m\u001b[38;5;250m \u001b[39m\u001b[38;5;28;01mimport\u001b[39;00m Queen\n\u001b[0;32m      5\u001b[0m \u001b[38;5;28;01mfrom\u001b[39;00m\u001b[38;5;250m \u001b[39m\u001b[38;5;21;01mesda\u001b[39;00m\u001b[38;5;21;01m.\u001b[39;00m\u001b[38;5;21;01mmoran\u001b[39;00m\u001b[38;5;250m \u001b[39m\u001b[38;5;28;01mimport\u001b[39;00m Moran\n\u001b[0;32m      7\u001b[0m \u001b[38;5;66;03m# Cargar shapefile de provincias (ajusta la ruta si es necesario)\u001b[39;00m\n",
      "\u001b[1;31mModuleNotFoundError\u001b[0m: No module named 'libpysal'"
     ]
    }
   ],
   "source": [
    "import pandas as pd\n",
    "import geopandas as gpd\n",
    "import plotly.express as px\n",
    "from libpysal.weights import Queen\n",
    "from esda.moran import Moran\n",
    "\n",
    "# Cargar shapefile de provincias (ajusta la ruta si es necesario)\n",
    "shapefile = gpd.read_file(\"../data/shapefiles/LIMITE_PROVINCIAL_CONALI_CNE_2022.shp\")\n",
    "\n",
    "# Cargar tu dataset final con datos sociales y delictivos de 2022\n",
    "df = pd.read_csv(\"../data/processed/df_social_2022.csv\")\n",
    "\n",
    "# Unir shapefile con datos por provincia\n",
    "gdf = shapefile.merge(df, on='provincia', how='left')\n",
    "gdf = gdf.to_crs(epsg=4326)\n",
    "\n",
    "# --- Mapa coroplético: Homicidios ---\n",
    "fig = px.choropleth_mapbox(\n",
    "    gdf,\n",
    "    geojson=gdf.geometry.__geo_interface__,\n",
    "    locations=gdf.index,\n",
    "    color='homicidios',\n",
    "    mapbox_style='carto-positron',\n",
    "    center={\"lat\": -1.5, \"lon\": -78.5},\n",
    "    zoom=5.3,\n",
    "    opacity=0.6,\n",
    "    title='Tasa de Homicidios por Provincia (2022)'\n",
    ")\n",
    "fig.show()\n",
    "\n",
    "# --- Mapa coroplético: Pobreza ---\n",
    "fig = px.choropleth_mapbox(\n",
    "    gdf,\n",
    "    geojson=gdf.geometry.__geo_interface__,\n",
    "    locations=gdf.index,\n",
    "    color='pobreza',\n",
    "    mapbox_style='carto-positron',\n",
    "    center={\"lat\": -1.5, \"lon\": -78.5},\n",
    "    zoom=5.3,\n",
    "    opacity=0.6,\n",
    "    title='Pobreza por Provincia (2022)'\n",
    ")\n",
    "fig.show()\n",
    "\n",
    "# --- Índice de Moran: autocorrelación espacial ---\n",
    "w = Queen.from_dataframe(gdf)\n",
    "w.transform = 'r'\n",
    "moran = Moran(gdf['homicidios'].fillna(0), w)\n",
    "\n",
    "print(f\"Índice de Moran para homicidios: {moran.I:.4f}\")\n",
    "print(f\"p-valor simulado: {moran.p_sim:.4f}\")\n"
   ]
  }
 ],
 "metadata": {
  "kernelspec": {
   "display_name": "base",
   "language": "python",
   "name": "python3"
  },
  "language_info": {
   "codemirror_mode": {
    "name": "ipython",
    "version": 3
   },
   "file_extension": ".py",
   "mimetype": "text/x-python",
   "name": "python",
   "nbconvert_exporter": "python",
   "pygments_lexer": "ipython3",
   "version": "3.13.5"
  }
 },
 "nbformat": 4,
 "nbformat_minor": 5
}
