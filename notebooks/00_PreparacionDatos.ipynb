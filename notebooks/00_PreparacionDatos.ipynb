{
 "cells": [
  {
   "cell_type": "code",
   "execution_count": 1,
   "id": "0b5bd67d",
   "metadata": {},
   "outputs": [],
   "source": [
    "#Imports\n",
    "\n",
    "import sys\n",
    "import os\n",
    "sys.path.append(os.path.abspath('..'))\n",
    "\n",
    "from scripts.limpieza import *"
   ]
  },
  {
   "cell_type": "code",
   "execution_count": 2,
   "id": "40518691-f62e-45a8-8576-c03df7544668",
   "metadata": {},
   "outputs": [],
   "source": [
    "# ---------- 1. Estructura poblacional ----------\n",
    "df_pob = cargar_dataset_preprocessed('estructura_poblacional_2022.xlsx', hoja='1.1')\n",
    "df_pob = limpiar_nombres_columnas(df_pob)\n",
    "\n",
    "df_pob = estandarizar_provincias(df_pob, col='provincia')\n",
    "df_pob = eliminar_totales(df_pob, col='provincia')\n",
    "guardar_dataset(df_pob, 'estructura_poblacional.csv')"
   ]
  },
  {
   "cell_type": "code",
   "execution_count": 3,
   "id": "fa6abacd",
   "metadata": {},
   "outputs": [],
   "source": [
    "# ---------- 2. Educación ----------\n",
    "df_edu = cargar_dataset_preprocessed('educacion_2022.xlsx', hoja='4.1')\n",
    "df_edu = limpiar_nombres_columnas(df_edu)\n",
    "df_edu = limpiar_datos_vacios(df_edu)\n",
    "df_edu = estandarizar_provincias(df_edu, col='provincia')\n",
    "df_edu = eliminar_totales(df_edu)\n",
    "guardar_dataset(df_edu, 'educacion_limpio.csv')"
   ]
  },
  {
   "cell_type": "code",
   "execution_count": 4,
   "id": "8193b3a6",
   "metadata": {},
   "outputs": [],
   "source": [
    "# ---------- 3. Trabajo ----------\n",
    "df_trab = cargar_dataset_preprocessed('trabajo_2022.xlsx', hoja='3.1')\n",
    "df_trab = limpiar_nombres_columnas(df_trab)\n",
    "df_trab = estandarizar_provincias(df_trab, col='provincia')\n",
    "df_trab = eliminar_totales(df_trab)\n",
    "guardar_dataset(df_trab, 'trabajo_limpio.csv')"
   ]
  },
  {
   "cell_type": "code",
   "execution_count": 5,
   "id": "33680ce4",
   "metadata": {},
   "outputs": [],
   "source": [
    "# ---------- 4. Pobreza ----------\n",
    "df_nbi = cargar_dataset_preprocessed('pobreza_2022.xlsx', hoja='10.1')\n",
    "df_nbi = limpiar_nombres_columnas(df_nbi)\n",
    "df_nbi = limpiar_datos_vacios(df_nbi)\n",
    "df_nbi = estandarizar_provincias(df_nbi, col='provincia')\n",
    "df_nbi = eliminar_totales(df_nbi)\n",
    "guardar_dataset(df_nbi, 'nbi_limpio.csv')"
   ]
  },
  {
   "cell_type": "code",
   "execution_count": 8,
   "id": "d8669e92",
   "metadata": {},
   "outputs": [],
   "source": [
    "# ---------- 5. Seguridad: Homicidios Cantón ----------\n",
    "df_homicidios = cargar_dataset_preprocessed('homicidios_canton.xlsx', hoja='2.homicidios_canton')\n",
    "df_homicidios = limpiar_nombres_columnas(df_homicidios)\n",
    "df_homicidios = estandarizar_provincias(df_homicidios, col='provincia')\n",
    "guardar_dataset(df_homicidios, 'homicidios_canton.csv')\n",
    "\n",
    "# ---------- 6. Femicidios ----------\n",
    "df_femicidios = cargar_dataset_preprocessed('femicidios_canton.xlsx', hoja='4.femicidios_canton')\n",
    "df_femicidios = limpiar_nombres_columnas(df_femicidios)\n",
    "df_femicidios = estandarizar_provincias(df_femicidios, col='provincia')\n",
    "guardar_dataset(df_femicidios, 'femicidios_canton.csv')\n",
    "\n",
    "# ---------- 7. Denuncias ----------\n",
    "df_denuncias = cargar_dataset_preprocessed('denuncias_prov.xlsx', hoja='5.denuncias_prov')\n",
    "df_denuncias = limpiar_nombres_columnas(df_denuncias)\n",
    "df_denuncias = estandarizar_provincias(df_denuncias, col='provincia')\n",
    "guardar_dataset(df_denuncias, 'denuncias_prov.csv')\n"
   ]
  },
  {
   "cell_type": "code",
   "execution_count": 9,
   "id": "b2b3dc73-b119-40b5-813c-5c5f394cdead",
   "metadata": {},
   "outputs": [],
   "source": [
    "# ---------- 8. Delitos graves (consolidado) ----------\n",
    "df_delitos = cargar_dataset('DELITOS-GRAVES-junio-final.xlsx', hoja='Datos')\n",
    "df_delitos = limpiar_nombres_columnas(df_delitos)\n",
    "guardar_dataset(df_delitos, 'delitos_graves.csv')\n"
   ]
  },
  {
   "cell_type": "code",
   "execution_count": 10,
   "id": "7ab756b6",
   "metadata": {},
   "outputs": [],
   "source": [
    "# ---------- 9. Homicidios intencionales ----------\n",
    "df_homi_anual = cargar_dataset('mdi_homicidios_intencionales_pm_2014_2024.xlsx', hoja='1')\n",
    "df_homi_anual = limpiar_nombres_columnas(df_homi_anual)\n",
    "guardar_dataset(df_homi_anual, 'homicidios_provincia.csv')"
   ]
  }
 ],
 "metadata": {
  "kernelspec": {
   "display_name": "base",
   "language": "python",
   "name": "python3"
  },
  "language_info": {
   "codemirror_mode": {
    "name": "ipython",
    "version": 3
   },
   "file_extension": ".py",
   "mimetype": "text/x-python",
   "name": "python",
   "nbconvert_exporter": "python",
   "pygments_lexer": "ipython3",
   "version": "3.13.5"
  }
 },
 "nbformat": 4,
 "nbformat_minor": 5
}
